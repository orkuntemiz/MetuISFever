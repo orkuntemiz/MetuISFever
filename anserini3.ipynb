{
 "cells": [
  {
   "cell_type": "code",
   "execution_count": 81,
   "metadata": {},
   "outputs": [],
   "source": [
    "#!pip install pyserini==0.8.1.0\n",
    "import re\n",
    "import sys\n",
    "\n",
    "# !python -m spacy download en_core_web_sm\n",
    "import en_core_web_sm\n",
    "import spacy\n",
    "from anglicize import anglicize\n",
    "from nltk.corpus import stopwords\n",
    "from nltk.corpus import wordnet as wn\n",
    "from nltk.tokenize import word_tokenize\n",
    "from pyserini.search import pysearch\n",
    "from spacy.lang.en import English\n",
    "from spacy.tokenizer import Tokenizer\n",
    "\n",
    "nlp = en_core_web_sm.load()\n",
    "nlp.add_pipe(\"merge_noun_chunks\")\n",
    "tokenizer = Tokenizer(nlp.vocab)\n",
    "import json\n",
    "import time\n",
    "from timeit import default_timer as timer\n",
    "\n",
    "import numpy as np\n",
    "from gensim.models.keyedvectors import KeyedVectors\n",
    "from gensim.scripts.glove2word2vec import glove2word2vec\n",
    "\n",
    "DATA_TRAIN = \"train.jsonl\"\n",
    "DATA_DEV = \"dev.jsonl\""
   ]
  },
  {
   "cell_type": "code",
   "execution_count": 5,
   "metadata": {},
   "outputs": [
    {
     "name": "stdout",
     "output_type": "stream",
     "text": [
      "4530030\n"
     ]
    }
   ],
   "source": [
    "model = KeyedVectors.load_word2vec_format(\n",
    "    \"enwiki_20180420_win10_100d.txt\", binary=False\n",
    ")\n",
    "vocab = model.key_to_index.keys()\n",
    "\n",
    "print(len(vocab))"
   ]
  },
  {
   "cell_type": "code",
   "execution_count": 114,
   "metadata": {},
   "outputs": [
    {
     "name": "stdout",
     "output_type": "stream",
     "text": [
      "Documents in TF-IDF corpus: 37803\n"
     ]
    },
    {
     "name": "stderr",
     "output_type": "stream",
     "text": [
      "C:\\Users\\Enformatik-Dell\\anaconda3\\lib\\site-packages\\sklearn\\feature_extraction\\text.py:383: UserWarning: Your stop_words may be inconsistent with your preprocessing. Tokenizing the stop words generated tokens [\"'ve\", 'need', 'win'] not in stop_words.\n",
      "  warnings.warn('Your stop_words may be inconsistent with '\n"
     ]
    },
    {
     "name": "stdout",
     "output_type": "stream",
     "text": [
      "['!' '#' '$' '%' '&' \"'\" \"''\" \"''hockey\" \"'55\" \"'70\"]\n"
     ]
    }
   ],
   "source": [
    "tfidf_sources = [DATA_TRAIN]\n",
    "# tfidf_sources = [DATA_TRAIN, DATA_DEV]\n",
    "\n",
    "from sklearn.feature_extraction.text import TfidfVectorizer\n",
    "\n",
    "\n",
    "def tfidf_tokenize(text):\n",
    "    tokens = []\n",
    "    for chunk in nlp(text):\n",
    "        if chunk.pos_ in [\"VERB\", \"NOUN\"]:\n",
    "            tokens.extend(word_tokenize(anglicize(chunk.lemma_)))\n",
    "    return tokens\n",
    "\n",
    "\n",
    "tfidf = TfidfVectorizer(tokenizer=tfidf_tokenize, stop_words=stopwords.words(\"english\"))\n",
    "\n",
    "corpus = []\n",
    "\n",
    "for tfidf_source in tfidf_sources:\n",
    "    with open(tfidf_source, \"r\", encoding=\"utf-8\") as f:\n",
    "        tfidf_dataset = [json.loads(line)[\"claim\"] for line in f]\n",
    "\n",
    "    corpus.extend(tfidf_dataset)\n",
    "\n",
    "print(\"Documents in TF-IDF corpus:\", len(corpus))\n",
    "# print(corpus[0:10])\n",
    "\n",
    "tfidf.fit(corpus)\n",
    "del corpus\n",
    "\n",
    "tfidf_features = np.array(tfidf.get_feature_names())\n",
    "\n",
    "print(tfidf_features[0:10])"
   ]
  },
  {
   "cell_type": "code",
   "execution_count": 115,
   "metadata": {},
   "outputs": [
    {
     "data": {
      "text/plain": [
       "array(['tafoya', 'great-great-great', 'tammy'], dtype='<U37')"
      ]
     },
     "execution_count": 115,
     "metadata": {},
     "output_type": "execute_result"
    }
   ],
   "source": [
    "tfidf_sorting = np.argsort(\n",
    "    tfidf.transform(\n",
    "        [\n",
    "            \"Tammy Garcia was born in California but currently lives in Taos, she comes from a long line of Santa Clara Pueblo artists and her great-great-great grandmother Sara Fina Tafoya was a potter.\"\n",
    "        ]\n",
    "    ).toarray()\n",
    ").flatten()[::-1]\n",
    "\n",
    "tfidf_features[tfidf_sorting][\n",
    "    : len(\n",
    "        tfidf_tokenize(\n",
    "            \"Tammy Garcia was born in California but currently lives in Taos, she comes from a long line of Santa Clara Pueblo artists and her great-great-great grandmother Sara Fina Tafoya was a potter.\"\n",
    "        )\n",
    "    )\n",
    "][0:3]"
   ]
  },
  {
   "cell_type": "code",
   "execution_count": 126,
   "metadata": {},
   "outputs": [],
   "source": [
    "lucene_dir = \"anserini/indexes/fever/lucene-index-fever-paragraph\"\n",
    "searcher = pysearch.SimpleSearcher(lucene_dir)\n",
    "\n",
    "\n",
    "def judge(\n",
    "    dataset,\n",
    "    FULL_CLAIM,\n",
    "    SPACY_ENTITIES,\n",
    "    CASE_ENTITIES,\n",
    "    ADD_SYNONYMS,\n",
    "    ADD_SIMILAR,\n",
    "    LINKED_PAGES,\n",
    "    CATCH_VERBS,\n",
    "    TFIDF_TOP,\n",
    "    FIND_ALL,\n",
    "    SIMILAR_THRESHOLD=0.85,\n",
    "    TFIDF_TOP_N=3,\n",
    "):\n",
    "\n",
    "    if not SPACY_ENTITIES and not CASE_ENTITIES and not LINKED_PAGES:\n",
    "        FULL_CLAIM = True\n",
    "\n",
    "    found = 0\n",
    "    claims = 0\n",
    "\n",
    "    start_timer = timer()\n",
    "    for data in dataset:\n",
    "        claims += 1\n",
    "\n",
    "        claim = nlp(\n",
    "            data[\"claim\"].replace(\" \", \" \")\n",
    "        )  # Replaces the obnoxious space character with normal space\n",
    "\n",
    "        keywords = set()\n",
    "        entities = set()\n",
    "\n",
    "        if SPACY_ENTITIES:\n",
    "            spacy_entities = [X.text for X in claim.ents]\n",
    "            entities.update(spacy_entities)\n",
    "\n",
    "        if CASE_ENTITIES:\n",
    "            case_entities = set()\n",
    "            chunks = claim.noun_chunks\n",
    "            for chunk in chunks:\n",
    "                for token in tokenizer(chunk.text):\n",
    "                    if token.text[0].isupper():\n",
    "                        case_entities.add(chunk.text)\n",
    "                        break\n",
    "\n",
    "            entities.update(case_entities)\n",
    "            # print(case_entities)\n",
    "            # print(entities)\n",
    "            # sys.exit(0)\n",
    "\n",
    "        keywords.update(entities)\n",
    "        # print(keywords)\n",
    "\n",
    "        if ADD_SYNONYMS:\n",
    "            for token in claim:\n",
    "                if token.is_stop:\n",
    "                    continue\n",
    "                synonyms = wn.synsets(token.text)\n",
    "                if synonyms and token:\n",
    "                    for synonym in synonyms:\n",
    "                        if (\n",
    "                            synonym.pos() == token.pos_[0].lower()\n",
    "                            and synonym.pos() == \"n\"\n",
    "                        ):\n",
    "                            keywords.update(\n",
    "                                [\n",
    "                                    lemma.replace(\"_\", \" \")\n",
    "                                    for lemma in synonym.lemma_names()\n",
    "                                ]\n",
    "                            )\n",
    "\n",
    "        if ADD_SIMILAR:\n",
    "            similar_check = [keyword for keyword in list(keywords) if keyword in vocab]\n",
    "\n",
    "            if similar_check:\n",
    "                similar_words = model.most_similar(positive=similar_check)\n",
    "                for i in range(0, len(similar_words)):\n",
    "                    if i == 0 or similar_words[i][1] >= SIMILAR_THRESHOLD:\n",
    "                        keywords.update([similar_words[i][0]])\n",
    "\n",
    "        if CATCH_VERBS:\n",
    "            for chunk in claim:\n",
    "                if (\n",
    "                    chunk.pos_ == \"VERB\"\n",
    "                    and chunk.dep_ != \"case\"\n",
    "                    and chunk.dep_ != \"prep\"\n",
    "                ):\n",
    "                    keywords.update([chunk.lemma_])\n",
    "\n",
    "        if TFIDF_TOP:\n",
    "            tfidf_sorting = np.argsort(\n",
    "                tfidf.transform([claim.text]).toarray()\n",
    "            ).flatten()[::-1]\n",
    "            tfidf_len = len(tfidf_tokenize(claim.text))\n",
    "            keywords.update(\n",
    "                tfidf_features[tfidf_sorting][0 : min([TFIDF_TOP_N, tfidf_len])]\n",
    "            )\n",
    "\n",
    "        if not FULL_CLAIM and not keywords:\n",
    "            continue\n",
    "        elif not FULL_CLAIM:\n",
    "            search_query = anglicize(\", \".join(keywords))\n",
    "        else:\n",
    "            search_query = anglicize(\n",
    "                claim.text + \" \" + \", \".join(keywords) + \", \".join(entities)\n",
    "            )\n",
    "\n",
    "        try:\n",
    "            lucene_hits = searcher.search(search_query, k=50)\n",
    "        except:\n",
    "            with open(\"error_pages.txt\", \"a\", encoding=\"utf-8\") as f:\n",
    "                f.write(\"{}\\n\".format(claim.text))\n",
    "            lucene_hits = None\n",
    "\n",
    "        if not lucene_hits:\n",
    "            continue\n",
    "\n",
    "        linked_pages = set()\n",
    "        if LINKED_PAGES:\n",
    "            for hit in lucene_hits:\n",
    "                links = re.findall(r\"(?:\\[\\[)(.*?)(?:\\|)\", hit.raw)\n",
    "                for link in links:\n",
    "                    linked_pages.update([link.replace(\"_\", \" \").lower()])\n",
    "\n",
    "        expected_pages = set()\n",
    "\n",
    "        for evidence in data[\"evidence\"]:\n",
    "            for content in evidence[\"content\"]:\n",
    "                expected_pages.add(content.split(\"_\")[0])\n",
    "\n",
    "        # If FIND_ALL, all evidence pages must be retrieved to be considered successful.\n",
    "        # Otherwise, finding at least one of the evidence pages is enough.\n",
    "        if FIND_ALL:\n",
    "            is_found = True\n",
    "        else:\n",
    "            is_found = False\n",
    "\n",
    "        for page in expected_pages:\n",
    "            expected_found = False\n",
    "            for hit in lucene_hits:\n",
    "                if FIND_ALL and (\n",
    "                    page.lower() == hit.docid.lower() or page.lower() in linked_pages\n",
    "                ):\n",
    "                    expected_found = True\n",
    "                    break\n",
    "                elif page.lower() == hit.docid.lower() or page.lower() in linked_pages:\n",
    "                    is_found = True\n",
    "                    break\n",
    "\n",
    "            if FIND_ALL and not expected_found:\n",
    "                is_found = False\n",
    "                break\n",
    "            elif is_found:\n",
    "                break\n",
    "\n",
    "        if is_found:\n",
    "            found += 1\n",
    "\n",
    "    end_timer = timer()\n",
    "    elapsed = int(end_timer - start_timer)\n",
    "    elapsed_formatted = time.strftime(\"%H:%M:%S\", time.gmtime(elapsed))\n",
    "    print(\n",
    "        \"PARAMETERS: \\nFULL_CLAIM: {}, \\nSPACY_ENTITIES: {}, \\nCASE_ENTITIES: {}, \\nADD_SYNONYMS: {}, \\nADD_SIMILAR: {}, \\nLINKED_PAGES: {}, \\nCATCH_VERBS: {}, \\nTFIDF_TOP: {}, \\nFIND_ALL: {}\".format(\n",
    "            FULL_CLAIM,\n",
    "            SPACY_ENTITIES,\n",
    "            CASE_ENTITIES,\n",
    "            ADD_SYNONYMS,\n",
    "            ADD_SIMILAR,\n",
    "            LINKED_PAGES,\n",
    "            CATCH_VERBS,\n",
    "            TFIDF_TOP,\n",
    "            FIND_ALL,\n",
    "        )\n",
    "    )\n",
    "    print(\"Found {} out of {} claims ({}%)\".format(found, claims, 100 * found / claims))\n",
    "    print(\"Elapsed:\", elapsed_formatted)\n",
    "    return (found / claims), elapsed"
   ]
  },
  {
   "cell_type": "code",
   "execution_count": 36,
   "metadata": {},
   "outputs": [],
   "source": [
    "dataset_path = DATA_DEV\n",
    "# dataset_path = DATA_TRAIN\n",
    "\n",
    "with open(dataset_path, \"r\", encoding=\"utf-8\") as f:\n",
    "    dataset = [json.loads(line) for line in f]"
   ]
  },
  {
   "cell_type": "markdown",
   "metadata": {},
   "source": [
    "Base (only the claim):"
   ]
  },
  {
   "cell_type": "code",
   "execution_count": 127,
   "metadata": {},
   "outputs": [
    {
     "name": "stdout",
     "output_type": "stream",
     "text": [
      "PARAMETERS: \n",
      "FULL_CLAIM: True, \n",
      "SPACY_ENTITIES: False, \n",
      "CASE_ENTITIES: False, \n",
      "ADD_SYNONYMS: False, \n",
      "ADD_SIMILAR: False, \n",
      "LINKED_PAGES: False, \n",
      "CATCH_VERBS: False, \n",
      "TFIDF_TOP: False, \n",
      "FIND_ALL: True\n",
      "Found 6706 out of 7891 claims (84.98289190216703%)\n",
      "Elapsed: 00:27:14\n"
     ]
    }
   ],
   "source": [
    "accuracy_1, elapsed_1 = judge(\n",
    "    dataset,\n",
    "    FULL_CLAIM=True,\n",
    "    SPACY_ENTITIES=False,\n",
    "    CASE_ENTITIES=False,\n",
    "    ADD_SYNONYMS=False,\n",
    "    ADD_SIMILAR=False,\n",
    "    LINKED_PAGES=False,\n",
    "    CATCH_VERBS=False,\n",
    "    TFIDF_TOP=False,\n",
    "    FIND_ALL=True,\n",
    ")"
   ]
  },
  {
   "cell_type": "code",
   "execution_count": 128,
   "metadata": {},
   "outputs": [
    {
     "name": "stdout",
     "output_type": "stream",
     "text": [
      "PARAMETERS: \n",
      "FULL_CLAIM: True, \n",
      "SPACY_ENTITIES: True, \n",
      "CASE_ENTITIES: True, \n",
      "ADD_SYNONYMS: False, \n",
      "ADD_SIMILAR: False, \n",
      "LINKED_PAGES: False, \n",
      "CATCH_VERBS: False, \n",
      "TFIDF_TOP: False, \n",
      "FIND_ALL: True\n",
      "Found 6764 out of 7891 claims (85.71790647573185%)\n",
      "Elapsed: 00:22:49\n"
     ]
    }
   ],
   "source": [
    "accuracy_2, elapsed_2 = judge(\n",
    "    dataset,\n",
    "    FULL_CLAIM=True,\n",
    "    SPACY_ENTITIES=True,\n",
    "    CASE_ENTITIES=True,\n",
    "    ADD_SYNONYMS=False,\n",
    "    ADD_SIMILAR=False,\n",
    "    LINKED_PAGES=False,\n",
    "    CATCH_VERBS=False,\n",
    "    TFIDF_TOP=False,\n",
    "    FIND_ALL=True,\n",
    ")"
   ]
  },
  {
   "cell_type": "code",
   "execution_count": 129,
   "metadata": {},
   "outputs": [
    {
     "name": "stdout",
     "output_type": "stream",
     "text": [
      "PARAMETERS: \n",
      "FULL_CLAIM: True, \n",
      "SPACY_ENTITIES: True, \n",
      "CASE_ENTITIES: True, \n",
      "ADD_SYNONYMS: False, \n",
      "ADD_SIMILAR: False, \n",
      "LINKED_PAGES: False, \n",
      "CATCH_VERBS: True, \n",
      "TFIDF_TOP: False, \n",
      "FIND_ALL: True\n",
      "Found 6761 out of 7891 claims (85.67988848054746%)\n",
      "Elapsed: 00:25:48\n"
     ]
    }
   ],
   "source": [
    "accuracy_3, elapsed_3 = judge(\n",
    "    dataset,\n",
    "    FULL_CLAIM=True,\n",
    "    SPACY_ENTITIES=True,\n",
    "    CASE_ENTITIES=True,\n",
    "    ADD_SYNONYMS=False,\n",
    "    ADD_SIMILAR=False,\n",
    "    LINKED_PAGES=False,\n",
    "    CATCH_VERBS=True,\n",
    "    TFIDF_TOP=False,\n",
    "    FIND_ALL=True,\n",
    ")"
   ]
  },
  {
   "cell_type": "code",
   "execution_count": 130,
   "metadata": {},
   "outputs": [
    {
     "name": "stdout",
     "output_type": "stream",
     "text": [
      "PARAMETERS: \n",
      "FULL_CLAIM: True, \n",
      "SPACY_ENTITIES: True, \n",
      "CASE_ENTITIES: True, \n",
      "ADD_SYNONYMS: False, \n",
      "ADD_SIMILAR: False, \n",
      "LINKED_PAGES: True, \n",
      "CATCH_VERBS: False, \n",
      "TFIDF_TOP: False, \n",
      "FIND_ALL: True\n",
      "Found 7069 out of 7891 claims (89.58306931947789%)\n",
      "Elapsed: 00:25:02\n"
     ]
    }
   ],
   "source": [
    "# Best when entities are not inserted to the query twice.\n",
    "# One of the best and fastest when entities are inserted to the query twice.\n",
    "accuracy_4, elapsed_4 = judge(\n",
    "    dataset,\n",
    "    FULL_CLAIM=True,\n",
    "    SPACY_ENTITIES=True,\n",
    "    CASE_ENTITIES=True,\n",
    "    ADD_SYNONYMS=False,\n",
    "    ADD_SIMILAR=False,\n",
    "    LINKED_PAGES=True,\n",
    "    CATCH_VERBS=False,\n",
    "    TFIDF_TOP=False,\n",
    "    FIND_ALL=True,\n",
    ")"
   ]
  },
  {
   "cell_type": "code",
   "execution_count": 131,
   "metadata": {},
   "outputs": [
    {
     "name": "stdout",
     "output_type": "stream",
     "text": [
      "PARAMETERS: \n",
      "FULL_CLAIM: True, \n",
      "SPACY_ENTITIES: True, \n",
      "CASE_ENTITIES: True, \n",
      "ADD_SYNONYMS: False, \n",
      "ADD_SIMILAR: False, \n",
      "LINKED_PAGES: True, \n",
      "CATCH_VERBS: True, \n",
      "TFIDF_TOP: False, \n",
      "FIND_ALL: True\n",
      "Found 7069 out of 7891 claims (89.58306931947789%)\n",
      "Elapsed: 00:27:10\n"
     ]
    }
   ],
   "source": [
    "accuracy_5, elapsed_5 = judge(\n",
    "    dataset,\n",
    "    FULL_CLAIM=True,\n",
    "    SPACY_ENTITIES=True,\n",
    "    CASE_ENTITIES=True,\n",
    "    ADD_SYNONYMS=False,\n",
    "    ADD_SIMILAR=False,\n",
    "    LINKED_PAGES=True,\n",
    "    CATCH_VERBS=True,\n",
    "    TFIDF_TOP=False,\n",
    "    FIND_ALL=True,\n",
    ")"
   ]
  }
 ],
 "metadata": {
  "kernelspec": {
   "display_name": "Python 3",
   "language": "python",
   "name": "python3"
  },
  "language_info": {
   "codemirror_mode": {
    "name": "ipython",
    "version": 3
   },
   "file_extension": ".py",
   "mimetype": "text/x-python",
   "name": "python",
   "nbconvert_exporter": "python",
   "pygments_lexer": "ipython3",
   "version": "3.7.7"
  }
 },
 "nbformat": 4,
 "nbformat_minor": 4
}
